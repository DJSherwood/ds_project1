{
 "cells": [
  {
   "cell_type": "code",
   "execution_count": null,
   "id": "irish-cassette",
   "metadata": {},
   "outputs": [],
   "source": [
    "covid_df = pd.read_csv('/home/gopherguy14/datasets/covid_confirmed_usafacts.csv')\n",
    "pop_df = pd.read_csv('/home/gopherguy14/datasets/covid_county_population.csv', engine='python')\n",
    "\n",
    "# create subset of data to show to be one year prior to March 12th, 2020 and\n",
    "# up to December 31st, 2020 \n",
    "crashes_subset = crashes_df[ ( crashes_df['Start_Time'] > '2019-03-01' ) & ( crashes_df['Start_Time'] < '2021-01-01') ][['ID','Start_Date','County','State']]\n",
    "# remove duplicates\n",
    "crashes_subset = crashes_subset.drop_duplicates(subset='ID')\n",
    "# perform the aggregation\n",
    "crashes_subset = crashes_subset.groupby(['Start_Date','County','State']).agg({'ID':'count'})\n",
    "crashes_subset = crashes_subset.reset_index()\n",
    "\n",
    "# select the id columns\n",
    "id_vars = covid_df.columns[:4]\n",
    "# select only the date columns\n",
    "value_vars = covid_df.columns[4:]\n",
    "# melt the covid data\n",
    "covid_melt_df = pd.melt(covid_df, id_vars=id_vars, value_vars=value_vars)\n",
    "# find new cases by sorting\n",
    "covid_melt_df = covid_melt_df.sort_values(by=['countyFIPS','variable'])\n",
    "# then grouping and subtracting each successive date from the next\n",
    "covid_melt_df['new_cases'] = covid_melt_df.groupby(['countyFIPS'])['value'].diff().fillna(0)\n",
    "# merge the covid data with the population data\n",
    "usafacts_data = pd.merge(\n",
    "    left=covid_melt_df, \n",
    "    right=pop_df[['countyFIPS','State','population']],\n",
    "    how=\"left\",\n",
    "    on=['countyFIPS','State']\n",
    ")\n",
    "# remove 'statewide unallocated' from County Name\n",
    "usafacts_data = usafacts_data.drop(usafacts_data[usafacts_data['County Name'] == 'Statewide Unallocated'].index)\n",
    "# drop StateFIPS, value\n",
    "usafacts_data = usafacts_data.drop(['countyFIPS','StateFIPS','value'],axis=1)\n",
    "# rename variable to 'covid_date'\n",
    "usafacts_data = usafacts_data.rename(columns={'variable':'covid_date'})\n",
    "# create a county variable without the word 'county'\n",
    "usafacts_data['County'] = usafacts_data['County Name'].str.split(' ',expand=True)[0]\n",
    "\n",
    "# load crash data into dataframe\n",
    "crashes_df = pd.read_csv('/home/gopherguy14/datasets/US_Accidents_Dec20.csv')\n",
    "# convert start_time to datetime and save date component into new column\n",
    "crashes_df['Start_Date'] = crashes_df['Start_Time'].astype(\"datetime64[ns]\").dt.date\n",
    "# drop old county name column\n",
    "usafacts_data = usafacts_data.drop(columns='County Name')"
   ]
  }
 ],
 "metadata": {
  "kernelspec": {
   "display_name": "Python 3",
   "language": "python",
   "name": "python3"
  },
  "language_info": {
   "codemirror_mode": {
    "name": "ipython",
    "version": 3
   },
   "file_extension": ".py",
   "mimetype": "text/x-python",
   "name": "python",
   "nbconvert_exporter": "python",
   "pygments_lexer": "ipython3",
   "version": "3.7.10"
  }
 },
 "nbformat": 4,
 "nbformat_minor": 5
}
